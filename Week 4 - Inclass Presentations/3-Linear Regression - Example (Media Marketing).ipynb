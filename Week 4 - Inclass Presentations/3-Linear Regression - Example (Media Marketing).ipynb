{
 "cells": [
  {
   "cell_type": "markdown",
   "id": "294a2209",
   "metadata": {},
   "source": [
    "# Loading Data into Pandas"
   ]
  },
  {
   "cell_type": "code",
   "execution_count": 32,
   "id": "c293ad22",
   "metadata": {},
   "outputs": [
    {
     "name": "stdout",
     "output_type": "stream",
     "text": [
      "      TV  Radio  Sales\n",
      "0  230.1   37.8   22.1\n",
      "1   44.5   39.3   10.4\n",
      "2   17.2   45.9    9.3\n",
      "3  151.5   41.3   18.5\n",
      "4  180.8   10.8   12.9\n"
     ]
    }
   ],
   "source": [
    "#importing library\n",
    "#loading the data\n",
    "import pandas as pd\n",
    "data=pd.read_csv('media_marketing.csv')\n",
    "print(data.head())"
   ]
  },
  {
   "cell_type": "markdown",
   "id": "332c5ce7",
   "metadata": {},
   "source": [
    "## Splitting Data into X and y"
   ]
  },
  {
   "cell_type": "code",
   "execution_count": 33,
   "id": "359d63a7",
   "metadata": {},
   "outputs": [],
   "source": [
    "# X variable contains all features\n",
    "X=data[['TV','Radio']] \n",
    "\n",
    "#y variable is the target variable\n",
    "y=data.Sales "
   ]
  },
  {
   "cell_type": "markdown",
   "id": "46797534",
   "metadata": {},
   "source": [
    "## Splitting Data into Train and Test Set"
   ]
  },
  {
   "cell_type": "code",
   "execution_count": 35,
   "id": "4f6b0c7a",
   "metadata": {},
   "outputs": [
    {
     "name": "stdout",
     "output_type": "stream",
     "text": [
      "(14, 2) (6, 2) (14,) (6,)\n"
     ]
    }
   ],
   "source": [
    "# Traning and testing data creation\n",
    "from sklearn.model_selection import train_test_split\n",
    "X_train,X_test,y_train,y_test=train_test_split(X,y,test_size=0.3,random_state=42)\n",
    "\n",
    "#Checking the shapes of train and test data\n",
    "print(X_train.shape,X_test.shape,y_train.shape,y_test.shape)"
   ]
  },
  {
   "cell_type": "markdown",
   "id": "1bdebbb2",
   "metadata": {},
   "source": [
    "## Model Creation"
   ]
  },
  {
   "cell_type": "code",
   "execution_count": 36,
   "id": "873015c3",
   "metadata": {},
   "outputs": [],
   "source": [
    "#import the necessary library package\n",
    "from sklearn.linear_model import LinearRegression\n",
    "\n",
    "# object creation\n",
    "Lin_Reg_all=LinearRegression() \n",
    "\n",
    "#training of linear regression\n",
    "Lin_Reg_all.fit(X_train,y_train)\n",
    "\n",
    "#predicting y values\n",
    "y_predict=Lin_Reg_all.predict(X_test)  "
   ]
  },
  {
   "cell_type": "markdown",
   "id": "984ecc32",
   "metadata": {},
   "source": [
    "## The Model Coefficients and Intercept"
   ]
  },
  {
   "cell_type": "code",
   "execution_count": 46,
   "id": "bb911815",
   "metadata": {},
   "outputs": [
    {
     "name": "stdout",
     "output_type": "stream",
     "text": [
      "The coefficients of TV and Radio are:  [0.04748281 0.1615382 ]\n",
      "The intercept of the regression model is:  3.3550354306286057\n",
      "The error term of the model is:  -0.12557388552418125\n"
     ]
    }
   ],
   "source": [
    "print('The coefficients of TV and Radio are: ',Lin_Reg_all.coef_)\n",
    "print('The intercept of the regression model is: ',Lin_Reg_all.intercept_)\n",
    "print('The error term of the model is: ',sum(residual))"
   ]
  },
  {
   "cell_type": "markdown",
   "id": "e1ebefad",
   "metadata": {},
   "source": [
    "## Plotting of Residuals"
   ]
  },
  {
   "cell_type": "code",
   "execution_count": 37,
   "id": "4aa91986",
   "metadata": {},
   "outputs": [
    {
     "data": {
      "image/png": "[encoded data removed]",
      "text/plain": [
       "<Figure size 432x288 with 1 Axes>"
      ]
     },
     "metadata": {
      "needs_background": "light"
     },
     "output_type": "display_data"
    }
   ],
   "source": [
    "# Calculate residuals\n",
    "residual  = y_test - y_predict\n",
    "\n",
    "#importing relevant library\n",
    "import matplotlib.pyplot as plt\n",
    "%matplotlib inline\n",
    "\n",
    "# Plot the actual vs. predicted values\n",
    "plt.scatter(y_test, y_predict, label=\"Data Points\")\n",
    "plt.plot([min(y_test), max(y_test)], [min(y_test), max(y_test)], '--k', label=\"Model Line\")\n",
    "plt.xlabel(\"Actual Values\")\n",
    "plt.ylabel(\"Predicted Values\")\n",
    "plt.title(\"Actual vs. Predicted Values for Linear Regression Model\")\n",
    "plt.legend()\n",
    "plt.show()"
   ]
  },
  {
   "cell_type": "markdown",
   "id": "1386e78a",
   "metadata": {},
   "source": [
    "## Model Performance Evaluation"
   ]
  },
  {
   "cell_type": "code",
   "execution_count": 51,
   "id": "130e33e1",
   "metadata": {},
   "outputs": [
    {
     "name": "stdout",
     "output_type": "stream",
     "text": [
      "The R-squared value of the model is:  91.75064812125913\n",
      "The adjusted R-squared value of the model is:  89.00086416167883\n",
      "The mean squared error of the model is  5.21480487527971\n",
      "The mean squared error of the model is  2.283594726583443\n",
      "The mean absolute error of the model is  1.9403461294593196\n"
     ]
    }
   ],
   "source": [
    "#importing relevant library\n",
    "from sklearn.metrics import r2_score,mean_squared_error,mean_absolute_error\n",
    "\n",
    "#Checking the R2 value of the model\n",
    "r2score=r2_score(y_test,y_predict)\n",
    "print('The R-squared value of the model is: ',r2score*100)\n",
    "\n",
    "## calculation of adjusted r2 score\n",
    "adjusted_r2 = 1-(1-r2score)*(6-2)/(6-2-1)\n",
    "print('The adjusted R-squared value of the model is: ',adjusted_r2*100)\n",
    "\n",
    "#Calculating the mean squared error\n",
    "mse = mean_squared_error(y_test,y_predict,squared = True)\n",
    "print('The mean squared error of the model is ',mse)\n",
    "\n",
    "#calculating the root mean squared error\n",
    "rmse = mean_squared_error(y_test,y_predict,squared = False)\n",
    "print('The mean squared error of the model is ',rmse)\n",
    "\n",
    "#Calculating the mean absolute error\n",
    "mae = mean_absolute_error(y_test,y_predict)\n",
    "print('The mean absolute error of the model is ',mae)"
   ]
  }
 ],
 "metadata": {
  "kernelspec": {
   "display_name": "Python 3 (ipykernel)",
   "language": "python",
   "name": "python3"
  },
  "language_info": {
   "codemirror_mode": {
    "name": "ipython",
    "version": 3
   },
   "file_extension": ".py",
   "mimetype": "text/x-python",
   "name": "python",
   "nbconvert_exporter": "python",
   "pygments_lexer": "ipython3",
   "version": "3.9.12"
  }
 },
 "nbformat": 4,
 "nbformat_minor": 5
}
